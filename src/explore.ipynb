{
    "cells": [
        {
            "cell_type": "markdown",
            "metadata": {},
            "source": [
                "## Natural Language Processing and Support Vector Machines project"
            ]
        },
        {
            "cell_type": "code",
            "execution_count": 7,
            "metadata": {},
            "outputs": [
                {
                    "name": "stdout",
                    "output_type": "stream",
                    "text": [
                        "Collecting pandas\n",
                        "  Downloading pandas-1.4.3-cp38-cp38-manylinux_2_17_x86_64.manylinux2014_x86_64.whl (11.7 MB)\n",
                        "\u001b[2K     \u001b[38;2;114;156;31m━━━━━━━━━━━━━━━━━━━━━━━━━━━━━━━━━━━━━━━━\u001b[0m \u001b[32m11.7/11.7 MB\u001b[0m \u001b[31m98.4 MB/s\u001b[0m eta \u001b[36m0:00:00\u001b[0mm eta \u001b[36m0:00:01\u001b[0m[36m0:00:01\u001b[0m\n",
                        "\u001b[?25hRequirement already satisfied: python-dateutil>=2.8.1 in /home/gitpod/.pyenv/versions/3.8.13/lib/python3.8/site-packages (from pandas) (2.8.2)\n",
                        "Collecting pytz>=2020.1\n",
                        "  Using cached pytz-2022.1-py2.py3-none-any.whl (503 kB)\n",
                        "Collecting numpy>=1.18.5\n",
                        "  Using cached numpy-1.23.1-cp38-cp38-manylinux_2_17_x86_64.manylinux2014_x86_64.whl (17.1 MB)\n",
                        "Requirement already satisfied: six>=1.5 in /home/gitpod/.pyenv/versions/3.8.13/lib/python3.8/site-packages (from python-dateutil>=2.8.1->pandas) (1.16.0)\n",
                        "Installing collected packages: pytz, numpy, pandas\n",
                        "Successfully installed numpy-1.23.1 pandas-1.4.3 pytz-2022.1\n",
                        "\n",
                        "\u001b[1m[\u001b[0m\u001b[34;49mnotice\u001b[0m\u001b[1;39;49m]\u001b[0m\u001b[39;49m A new release of pip available: \u001b[0m\u001b[31;49m22.1.2\u001b[0m\u001b[39;49m -> \u001b[0m\u001b[32;49m22.2\u001b[0m\n",
                        "\u001b[1m[\u001b[0m\u001b[34;49mnotice\u001b[0m\u001b[1;39;49m]\u001b[0m\u001b[39;49m To update, run: \u001b[0m\u001b[32;49mpip install --upgrade pip\u001b[0m\n",
                        "Collecting sklearn\n",
                        "  Using cached sklearn-0.0-py2.py3-none-any.whl\n",
                        "Collecting scikit-learn\n",
                        "  Using cached scikit_learn-1.1.1-cp38-cp38-manylinux_2_17_x86_64.manylinux2014_x86_64.whl (31.2 MB)\n",
                        "Collecting joblib>=1.0.0\n",
                        "  Using cached joblib-1.1.0-py2.py3-none-any.whl (306 kB)\n",
                        "Collecting threadpoolctl>=2.0.0\n",
                        "  Using cached threadpoolctl-3.1.0-py3-none-any.whl (14 kB)\n",
                        "Collecting scipy>=1.3.2\n",
                        "  Using cached scipy-1.8.1-cp38-cp38-manylinux_2_17_x86_64.manylinux2014_x86_64.whl (41.6 MB)\n",
                        "Requirement already satisfied: numpy>=1.17.3 in /home/gitpod/.pyenv/versions/3.8.13/lib/python3.8/site-packages (from scikit-learn->sklearn) (1.23.1)\n",
                        "Installing collected packages: threadpoolctl, scipy, joblib, scikit-learn, sklearn\n",
                        "Successfully installed joblib-1.1.0 scikit-learn-1.1.1 scipy-1.8.1 sklearn-0.0 threadpoolctl-3.1.0\n",
                        "\n",
                        "\u001b[1m[\u001b[0m\u001b[34;49mnotice\u001b[0m\u001b[1;39;49m]\u001b[0m\u001b[39;49m A new release of pip available: \u001b[0m\u001b[31;49m22.1.2\u001b[0m\u001b[39;49m -> \u001b[0m\u001b[32;49m22.2\u001b[0m\n",
                        "\u001b[1m[\u001b[0m\u001b[34;49mnotice\u001b[0m\u001b[1;39;49m]\u001b[0m\u001b[39;49m To update, run: \u001b[0m\u001b[32;49mpip install --upgrade pip\u001b[0m\n"
                    ]
                }
            ],
            "source": [
                "! pip install pandas\n",
                "! pip install sklearn"
            ]
        },
        {
            "cell_type": "code",
            "execution_count": 10,
            "metadata": {},
            "outputs": [],
            "source": [
                "# Import libraries\n",
                "\n",
                "import pandas as pd\n",
                "import pickle\n",
                "import numpy as np\n",
                "import re\n",
                "import unicodedata\n",
                "from sklearn.feature_extraction.text import CountVectorizer\n",
                "from sklearn.model_selection import train_test_split\n",
                "from sklearn.svm import SVC\n",
                "from sklearn.metrics import classification_report\n",
                "from sklearn.model_selection import GridSearchCV"
            ]
        },
        {
            "cell_type": "markdown",
            "metadata": {},
            "source": [
                "**1. Load dataset and do the necessary transformations**"
            ]
        },
        {
            "cell_type": "code",
            "execution_count": 11,
            "metadata": {},
            "outputs": [],
            "source": [
                "df_raw = pd.read_csv('https://raw.githubusercontent.com/4GeeksAcademy/NLP-project-tutorial/main/url_spam.csv')"
            ]
        },
        {
            "cell_type": "code",
            "execution_count": 12,
            "metadata": {},
            "outputs": [
                {
                    "name": "stdout",
                    "output_type": "stream",
                    "text": [
                        "<class 'pandas.core.frame.DataFrame'>\n",
                        "RangeIndex: 2999 entries, 0 to 2998\n",
                        "Data columns (total 2 columns):\n",
                        " #   Column   Non-Null Count  Dtype \n",
                        "---  ------   --------------  ----- \n",
                        " 0   url      2999 non-null   object\n",
                        " 1   is_spam  2999 non-null   bool  \n",
                        "dtypes: bool(1), object(1)\n",
                        "memory usage: 26.5+ KB\n"
                    ]
                }
            ],
            "source": [
                "df_raw.info()"
            ]
        },
        {
            "cell_type": "code",
            "execution_count": 13,
            "metadata": {},
            "outputs": [
                {
                    "data": {
                        "text/html": [
                            "<div>\n",
                            "<style scoped>\n",
                            "    .dataframe tbody tr th:only-of-type {\n",
                            "        vertical-align: middle;\n",
                            "    }\n",
                            "\n",
                            "    .dataframe tbody tr th {\n",
                            "        vertical-align: top;\n",
                            "    }\n",
                            "\n",
                            "    .dataframe thead th {\n",
                            "        text-align: right;\n",
                            "    }\n",
                            "</style>\n",
                            "<table border=\"1\" class=\"dataframe\">\n",
                            "  <thead>\n",
                            "    <tr style=\"text-align: right;\">\n",
                            "      <th></th>\n",
                            "      <th>url</th>\n",
                            "      <th>is_spam</th>\n",
                            "    </tr>\n",
                            "  </thead>\n",
                            "  <tbody>\n",
                            "    <tr>\n",
                            "      <th>2741</th>\n",
                            "      <td>https://www.theskimm.com/picks/genius-products...</td>\n",
                            "      <td>False</td>\n",
                            "    </tr>\n",
                            "    <tr>\n",
                            "      <th>1879</th>\n",
                            "      <td>https://www.morningbrew.com/daily/refer-a-friend</td>\n",
                            "      <td>True</td>\n",
                            "    </tr>\n",
                            "    <tr>\n",
                            "      <th>1959</th>\n",
                            "      <td>https://www.cnbc.com/2020/06/27/the-facebook-a...</td>\n",
                            "      <td>False</td>\n",
                            "    </tr>\n",
                            "    <tr>\n",
                            "      <th>2856</th>\n",
                            "      <td>https://numlock.substack.com/p/numlock-sunday-...</td>\n",
                            "      <td>True</td>\n",
                            "    </tr>\n",
                            "    <tr>\n",
                            "      <th>1483</th>\n",
                            "      <td>http://us2.forward-to-friend.com/forward</td>\n",
                            "      <td>True</td>\n",
                            "    </tr>\n",
                            "    <tr>\n",
                            "      <th>143</th>\n",
                            "      <td>https://www.realclearpolitics.com/articles/202...</td>\n",
                            "      <td>False</td>\n",
                            "    </tr>\n",
                            "    <tr>\n",
                            "      <th>2224</th>\n",
                            "      <td>https://www.creosotemaps.com/blm2020/</td>\n",
                            "      <td>False</td>\n",
                            "    </tr>\n",
                            "    <tr>\n",
                            "      <th>2147</th>\n",
                            "      <td>https://thehustle.co/06302020-Coupang-ecommerce/</td>\n",
                            "      <td>False</td>\n",
                            "    </tr>\n",
                            "    <tr>\n",
                            "      <th>2035</th>\n",
                            "      <td>https://www.youtube.com/watch?v=S97MaG3kOMY&amp;fe...</td>\n",
                            "      <td>False</td>\n",
                            "    </tr>\n",
                            "    <tr>\n",
                            "      <th>2250</th>\n",
                            "      <td>https://www.vox.com/recode/2020/6/30/21287053/...</td>\n",
                            "      <td>False</td>\n",
                            "    </tr>\n",
                            "  </tbody>\n",
                            "</table>\n",
                            "</div>"
                        ],
                        "text/plain": [
                            "                                                    url  is_spam\n",
                            "2741  https://www.theskimm.com/picks/genius-products...    False\n",
                            "1879   https://www.morningbrew.com/daily/refer-a-friend     True\n",
                            "1959  https://www.cnbc.com/2020/06/27/the-facebook-a...    False\n",
                            "2856  https://numlock.substack.com/p/numlock-sunday-...     True\n",
                            "1483           http://us2.forward-to-friend.com/forward     True\n",
                            "143   https://www.realclearpolitics.com/articles/202...    False\n",
                            "2224              https://www.creosotemaps.com/blm2020/    False\n",
                            "2147   https://thehustle.co/06302020-Coupang-ecommerce/    False\n",
                            "2035  https://www.youtube.com/watch?v=S97MaG3kOMY&fe...    False\n",
                            "2250  https://www.vox.com/recode/2020/6/30/21287053/...    False"
                        ]
                    },
                    "execution_count": 13,
                    "metadata": {},
                    "output_type": "execute_result"
                }
            ],
            "source": [
                "df_raw.sample(10)"
            ]
        },
        {
            "cell_type": "code",
            "execution_count": 14,
            "metadata": {},
            "outputs": [
                {
                    "data": {
                        "text/plain": [
                            "False    2303\n",
                            "True      696\n",
                            "Name: is_spam, dtype: int64"
                        ]
                    },
                    "execution_count": 14,
                    "metadata": {},
                    "output_type": "execute_result"
                }
            ],
            "source": [
                "df_raw['is_spam'].value_counts()"
            ]
        },
        {
            "cell_type": "code",
            "execution_count": 15,
            "metadata": {},
            "outputs": [],
            "source": [
                "df_interin = df_raw.copy()"
            ]
        },
        {
            "cell_type": "code",
            "execution_count": 19,
            "metadata": {},
            "outputs": [
                {
                    "name": "stdout",
                    "output_type": "stream",
                    "text": [
                        "Number of duplicated rows: 630\n"
                    ]
                }
            ],
            "source": [
                "# Check duplicates\n",
                "\n",
                "print('Number of duplicated rows:',df_interin.duplicated().sum())\n",
                "\n",
                "df_interin = df_interin.drop_duplicates().reset_index(drop = True)"
            ]
        },
        {
            "cell_type": "code",
            "execution_count": 20,
            "metadata": {},
            "outputs": [
                {
                    "name": "stdout",
                    "output_type": "stream",
                    "text": [
                        "<class 'pandas.core.frame.DataFrame'>\n",
                        "RangeIndex: 2369 entries, 0 to 2368\n",
                        "Data columns (total 2 columns):\n",
                        " #   Column   Non-Null Count  Dtype \n",
                        "---  ------   --------------  ----- \n",
                        " 0   url      2369 non-null   object\n",
                        " 1   is_spam  2369 non-null   bool  \n",
                        "dtypes: bool(1), object(1)\n",
                        "memory usage: 20.9+ KB\n"
                    ]
                }
            ],
            "source": [
                "df_interin.info()"
            ]
        },
        {
            "cell_type": "code",
            "execution_count": 22,
            "metadata": {},
            "outputs": [
                {
                    "data": {
                        "text/plain": [
                            "False    2125\n",
                            "True      244\n",
                            "Name: is_spam, dtype: int64"
                        ]
                    },
                    "execution_count": 22,
                    "metadata": {},
                    "output_type": "execute_result"
                }
            ],
            "source": [
                "df_interin['is_spam'].value_counts()"
            ]
        },
        {
            "cell_type": "code",
            "execution_count": 24,
            "metadata": {},
            "outputs": [],
            "source": [
                "# functions to clean the text\n",
                "\n",
                "def comas(text):\n",
                "    \"\"\"\n",
                "    Elimina comas del texto\n",
                "    \"\"\"\n",
                "    return re.sub(',', ' ', text)\n",
                "\n",
                "def espacios(text):\n",
                "    \"\"\"\n",
                "    Elimina enters dobles por un solo enter\n",
                "    \"\"\"\n",
                "    return re.sub(r'(\\n{2,})','\\n', text)\n",
                "\n",
                "def minuscula(text):\n",
                "    \"\"\"\n",
                "    Cambia mayusculas a minusculas\n",
                "    \"\"\"\n",
                "    return text.lower()\n",
                "\n",
                "def numeros(text):\n",
                "    \"\"\"\n",
                "    Sustituye los numeros\n",
                "    \"\"\"\n",
                "    return re.sub('([\\d]+)', ' ', text)\n",
                "\n",
                "def caracteres_no_alfanumericos(text):\n",
                "    \"\"\"\n",
                "    Sustituye caracteres raros, no digitos y letras\n",
                "    Ej. hola 'pepito' como le va? -> hola pepito como le va\n",
                "    \"\"\"\n",
                "    return re.sub(\"(\\\\W)+\",\" \",text)\n",
                "\n",
                "def comillas(text):\n",
                "    \"\"\"\n",
                "    Sustituye comillas por un espacio\n",
                "    Ej. hola 'pepito' como le va? -> hola pepito como le va?\n",
                "    \"\"\"\n",
                "    return re.sub(\"'\",\" \", text)\n",
                "\n",
                "def palabras_repetidas(text):\n",
                "    \"\"\"\n",
                "    Sustituye palabras repetidas\n",
                "\n",
                "    Ej. hola hola, como les va? a a ustedes -> hola, como les va? a ustedes\n",
                "    \"\"\"\n",
                "    return re.sub(r'\\b(\\w+)( \\1\\b)+', r'\\1', text)\n",
                "\n",
                "def esp_multiple(text):\n",
                "    \"\"\"\n",
                "    Sustituye los espacios dobles entre palabras\n",
                "    \"\"\"\n",
                "    return re.sub(' +', ' ',text)\n",
                "\n",
                "\n",
                "def url(text):\n",
                "    \"\"\"\n",
                "    Remove https\n",
                "    \"\"\"\n",
                "    return re.sub(r'(https://www|https://)', '', text)"
            ]
        },
        {
            "cell_type": "code",
            "execution_count": 25,
            "metadata": {},
            "outputs": [],
            "source": [
                "# clean url\n",
                "\n",
                "df_interin['url_limpia'] = df_interin['url'].apply(url).apply(caracteres_no_alfanumericos).apply(esp_multiple)"
            ]
        },
        {
            "cell_type": "code",
            "execution_count": 26,
            "metadata": {},
            "outputs": [
                {
                    "data": {
                        "text/html": [
                            "<div>\n",
                            "<style scoped>\n",
                            "    .dataframe tbody tr th:only-of-type {\n",
                            "        vertical-align: middle;\n",
                            "    }\n",
                            "\n",
                            "    .dataframe tbody tr th {\n",
                            "        vertical-align: top;\n",
                            "    }\n",
                            "\n",
                            "    .dataframe thead th {\n",
                            "        text-align: right;\n",
                            "    }\n",
                            "</style>\n",
                            "<table border=\"1\" class=\"dataframe\">\n",
                            "  <thead>\n",
                            "    <tr style=\"text-align: right;\">\n",
                            "      <th></th>\n",
                            "      <th>url</th>\n",
                            "      <th>is_spam</th>\n",
                            "      <th>url_limpia</th>\n",
                            "    </tr>\n",
                            "  </thead>\n",
                            "  <tbody>\n",
                            "    <tr>\n",
                            "      <th>0</th>\n",
                            "      <td>https://briefingday.us8.list-manage.com/unsubs...</td>\n",
                            "      <td>True</td>\n",
                            "      <td>briefingday us8 list manage com unsubscribe</td>\n",
                            "    </tr>\n",
                            "    <tr>\n",
                            "      <th>1</th>\n",
                            "      <td>https://www.hvper.com/</td>\n",
                            "      <td>True</td>\n",
                            "      <td>hvper com</td>\n",
                            "    </tr>\n",
                            "    <tr>\n",
                            "      <th>2</th>\n",
                            "      <td>https://briefingday.com/m/v4n3i4f3</td>\n",
                            "      <td>True</td>\n",
                            "      <td>briefingday com m v4n3i4f3</td>\n",
                            "    </tr>\n",
                            "    <tr>\n",
                            "      <th>3</th>\n",
                            "      <td>https://briefingday.com/n/20200618/m#commentform</td>\n",
                            "      <td>False</td>\n",
                            "      <td>briefingday com n 20200618 m commentform</td>\n",
                            "    </tr>\n",
                            "    <tr>\n",
                            "      <th>4</th>\n",
                            "      <td>https://briefingday.com/fan</td>\n",
                            "      <td>True</td>\n",
                            "      <td>briefingday com fan</td>\n",
                            "    </tr>\n",
                            "  </tbody>\n",
                            "</table>\n",
                            "</div>"
                        ],
                        "text/plain": [
                            "                                                 url  is_spam  \\\n",
                            "0  https://briefingday.us8.list-manage.com/unsubs...     True   \n",
                            "1                             https://www.hvper.com/     True   \n",
                            "2                 https://briefingday.com/m/v4n3i4f3     True   \n",
                            "3   https://briefingday.com/n/20200618/m#commentform    False   \n",
                            "4                        https://briefingday.com/fan     True   \n",
                            "\n",
                            "                                    url_limpia  \n",
                            "0  briefingday us8 list manage com unsubscribe  \n",
                            "1                                   hvper com   \n",
                            "2                   briefingday com m v4n3i4f3  \n",
                            "3     briefingday com n 20200618 m commentform  \n",
                            "4                          briefingday com fan  "
                        ]
                    },
                    "execution_count": 26,
                    "metadata": {},
                    "output_type": "execute_result"
                }
            ],
            "source": [
                "df_interin.head()"
            ]
        },
        {
            "cell_type": "code",
            "execution_count": 27,
            "metadata": {},
            "outputs": [],
            "source": [
                "# Transform target variable\n",
                "df_interin['is_spam'] = df_interin['is_spam'].apply(lambda x: 1 if x == True else 0)"
            ]
        },
        {
            "cell_type": "markdown",
            "metadata": {},
            "source": [
                "**2. NLP techniques to preprocess data before modeling**"
            ]
        },
        {
            "cell_type": "code",
            "execution_count": 28,
            "metadata": {},
            "outputs": [],
            "source": [
                "df = df_interin.copy()"
            ]
        },
        {
            "cell_type": "code",
            "execution_count": 48,
            "metadata": {},
            "outputs": [],
            "source": [
                "X = df['url_limpia']\n",
                "\n",
                "y = df['is_spam']\n",
                "\n",
                "X_train, X_test, y_train, y_test = train_test_split(X,y,stratify = y, random_state=2207)"
            ]
        },
        {
            "cell_type": "code",
            "execution_count": 38,
            "metadata": {},
            "outputs": [
                {
                    "data": {
                        "text/plain": [
                            "1776"
                        ]
                    },
                    "execution_count": 38,
                    "metadata": {},
                    "output_type": "execute_result"
                }
            ],
            "source": [
                "len(X_train)"
            ]
        },
        {
            "cell_type": "code",
            "execution_count": 42,
            "metadata": {},
            "outputs": [
                {
                    "data": {
                        "text/plain": [
                            "593"
                        ]
                    },
                    "execution_count": 42,
                    "metadata": {},
                    "output_type": "execute_result"
                }
            ],
            "source": [
                "len(X_test)"
            ]
        },
        {
            "cell_type": "code",
            "execution_count": 49,
            "metadata": {},
            "outputs": [],
            "source": [
                "vec = CountVectorizer()\n",
                "\n",
                "X_train = vec.fit_transform(X_train).toarray()\n",
                "X_test = vec.transform(X_test).toarray()"
            ]
        },
        {
            "cell_type": "code",
            "execution_count": 45,
            "metadata": {},
            "outputs": [
                {
                    "data": {
                        "text/plain": [
                            "(1776, 5650)"
                        ]
                    },
                    "execution_count": 45,
                    "metadata": {},
                    "output_type": "execute_result"
                }
            ],
            "source": [
                "X_train.shape"
            ]
        },
        {
            "cell_type": "code",
            "execution_count": 46,
            "metadata": {},
            "outputs": [
                {
                    "data": {
                        "text/plain": [
                            "(593, 5650)"
                        ]
                    },
                    "execution_count": 46,
                    "metadata": {},
                    "output_type": "execute_result"
                }
            ],
            "source": [
                "X_test.shape"
            ]
        },
        {
            "cell_type": "markdown",
            "metadata": {},
            "source": [
                "**3. SVM to construct a classifier for URLs**"
            ]
        },
        {
            "cell_type": "markdown",
            "metadata": {},
            "source": [
                "3.1 No hyperparameter tuning"
            ]
        },
        {
            "cell_type": "code",
            "execution_count": 56,
            "metadata": {},
            "outputs": [
                {
                    "name": "stdout",
                    "output_type": "stream",
                    "text": [
                        "              precision    recall  f1-score   support\n",
                        "\n",
                        "           0       0.96      0.97      0.96       532\n",
                        "           1       0.71      0.64      0.67        61\n",
                        "\n",
                        "    accuracy                           0.94       593\n",
                        "   macro avg       0.83      0.80      0.82       593\n",
                        "weighted avg       0.93      0.94      0.93       593\n",
                        "\n"
                    ]
                }
            ],
            "source": [
                "classifier = SVC(C = 1.0, kernel = 'linear', gamma = 'auto')\n",
                "\n",
                "classifier.fit(X_train, y_train)\n",
                "predictions = classifier.predict(X_test)\n",
                "print(classification_report(y_test, predictions))"
            ]
        },
        {
            "cell_type": "markdown",
            "metadata": {},
            "source": [
                "3.2 Hyperparameter tuning with GridSearchCV"
            ]
        },
        {
            "cell_type": "code",
            "execution_count": 51,
            "metadata": {},
            "outputs": [
                {
                    "name": "stdout",
                    "output_type": "stream",
                    "text": [
                        "Fitting 5 folds for each of 48 candidates, totalling 240 fits\n",
                        "[CV] END .........................C=0.1, gamma=1, kernel=rbf; total time=   7.2s\n",
                        "[CV] END .........................C=0.1, gamma=1, kernel=rbf; total time=   7.4s\n",
                        "[CV] END .........................C=0.1, gamma=1, kernel=rbf; total time=   7.4s\n",
                        "[CV] END .........................C=0.1, gamma=1, kernel=rbf; total time=   7.4s\n",
                        "[CV] END .........................C=0.1, gamma=1, kernel=rbf; total time=   7.2s\n",
                        "[CV] END ........................C=0.1, gamma=1, kernel=poly; total time=   5.7s\n",
                        "[CV] END ........................C=0.1, gamma=1, kernel=poly; total time=   5.6s\n",
                        "[CV] END ........................C=0.1, gamma=1, kernel=poly; total time=   5.2s\n",
                        "[CV] END ........................C=0.1, gamma=1, kernel=poly; total time=   5.2s\n",
                        "[CV] END ........................C=0.1, gamma=1, kernel=poly; total time=   4.9s\n",
                        "[CV] END .....................C=0.1, gamma=1, kernel=sigmoid; total time=   1.6s\n",
                        "[CV] END .....................C=0.1, gamma=1, kernel=sigmoid; total time=   1.4s\n",
                        "[CV] END .....................C=0.1, gamma=1, kernel=sigmoid; total time=   1.5s\n",
                        "[CV] END .....................C=0.1, gamma=1, kernel=sigmoid; total time=   1.3s\n",
                        "[CV] END .....................C=0.1, gamma=1, kernel=sigmoid; total time=   1.4s\n",
                        "[CV] END .......................C=0.1, gamma=0.1, kernel=rbf; total time=   3.9s\n",
                        "[CV] END .......................C=0.1, gamma=0.1, kernel=rbf; total time=   4.0s\n",
                        "[CV] END .......................C=0.1, gamma=0.1, kernel=rbf; total time=   4.3s\n",
                        "[CV] END .......................C=0.1, gamma=0.1, kernel=rbf; total time=   3.8s\n",
                        "[CV] END .......................C=0.1, gamma=0.1, kernel=rbf; total time=   3.9s\n",
                        "[CV] END ......................C=0.1, gamma=0.1, kernel=poly; total time=   4.5s\n",
                        "[CV] END ......................C=0.1, gamma=0.1, kernel=poly; total time=   4.9s\n",
                        "[CV] END ......................C=0.1, gamma=0.1, kernel=poly; total time=   5.0s\n",
                        "[CV] END ......................C=0.1, gamma=0.1, kernel=poly; total time=   4.5s\n",
                        "[CV] END ......................C=0.1, gamma=0.1, kernel=poly; total time=   4.5s\n",
                        "[CV] END ...................C=0.1, gamma=0.1, kernel=sigmoid; total time=   1.6s\n",
                        "[CV] END ...................C=0.1, gamma=0.1, kernel=sigmoid; total time=   1.6s\n",
                        "[CV] END ...................C=0.1, gamma=0.1, kernel=sigmoid; total time=   1.6s\n",
                        "[CV] END ...................C=0.1, gamma=0.1, kernel=sigmoid; total time=   1.8s\n",
                        "[CV] END ...................C=0.1, gamma=0.1, kernel=sigmoid; total time=   1.6s\n",
                        "[CV] END ......................C=0.1, gamma=0.01, kernel=rbf; total time=   2.3s\n",
                        "[CV] END ......................C=0.1, gamma=0.01, kernel=rbf; total time=   2.1s\n",
                        "[CV] END ......................C=0.1, gamma=0.01, kernel=rbf; total time=   2.2s\n",
                        "[CV] END ......................C=0.1, gamma=0.01, kernel=rbf; total time=   2.3s\n",
                        "[CV] END ......................C=0.1, gamma=0.01, kernel=rbf; total time=   2.2s\n",
                        "[CV] END .....................C=0.1, gamma=0.01, kernel=poly; total time=   1.0s\n",
                        "[CV] END .....................C=0.1, gamma=0.01, kernel=poly; total time=   0.9s\n",
                        "[CV] END .....................C=0.1, gamma=0.01, kernel=poly; total time=   1.1s\n",
                        "[CV] END .....................C=0.1, gamma=0.01, kernel=poly; total time=   0.9s\n",
                        "[CV] END .....................C=0.1, gamma=0.01, kernel=poly; total time=   0.9s\n",
                        "[CV] END ..................C=0.1, gamma=0.01, kernel=sigmoid; total time=   1.9s\n",
                        "[CV] END ..................C=0.1, gamma=0.01, kernel=sigmoid; total time=   1.6s\n",
                        "[CV] END ..................C=0.1, gamma=0.01, kernel=sigmoid; total time=   1.5s\n",
                        "[CV] END ..................C=0.1, gamma=0.01, kernel=sigmoid; total time=   1.9s\n",
                        "[CV] END ..................C=0.1, gamma=0.01, kernel=sigmoid; total time=   1.7s\n",
                        "[CV] END .....................C=0.1, gamma=0.001, kernel=rbf; total time=   1.5s\n",
                        "[CV] END .....................C=0.1, gamma=0.001, kernel=rbf; total time=   1.6s\n",
                        "[CV] END .....................C=0.1, gamma=0.001, kernel=rbf; total time=   1.3s\n",
                        "[CV] END .....................C=0.1, gamma=0.001, kernel=rbf; total time=   1.4s\n",
                        "[CV] END .....................C=0.1, gamma=0.001, kernel=rbf; total time=   1.4s\n",
                        "[CV] END ....................C=0.1, gamma=0.001, kernel=poly; total time=   0.9s\n",
                        "[CV] END ....................C=0.1, gamma=0.001, kernel=poly; total time=   1.0s\n",
                        "[CV] END ....................C=0.1, gamma=0.001, kernel=poly; total time=   0.9s\n",
                        "[CV] END ....................C=0.1, gamma=0.001, kernel=poly; total time=   0.9s\n",
                        "[CV] END ....................C=0.1, gamma=0.001, kernel=poly; total time=   1.1s\n",
                        "[CV] END .................C=0.1, gamma=0.001, kernel=sigmoid; total time=   1.0s\n",
                        "[CV] END .................C=0.1, gamma=0.001, kernel=sigmoid; total time=   1.1s\n",
                        "[CV] END .................C=0.1, gamma=0.001, kernel=sigmoid; total time=   1.1s\n",
                        "[CV] END .................C=0.1, gamma=0.001, kernel=sigmoid; total time=   1.1s\n",
                        "[CV] END .................C=0.1, gamma=0.001, kernel=sigmoid; total time=   1.2s\n",
                        "[CV] END ...........................C=1, gamma=1, kernel=rbf; total time=   6.6s\n",
                        "[CV] END ...........................C=1, gamma=1, kernel=rbf; total time=   6.5s\n",
                        "[CV] END ...........................C=1, gamma=1, kernel=rbf; total time=   7.3s\n",
                        "[CV] END ...........................C=1, gamma=1, kernel=rbf; total time=   5.9s\n",
                        "[CV] END ...........................C=1, gamma=1, kernel=rbf; total time=   6.1s\n",
                        "[CV] END ..........................C=1, gamma=1, kernel=poly; total time=   4.7s\n",
                        "[CV] END ..........................C=1, gamma=1, kernel=poly; total time=   4.5s\n",
                        "[CV] END ..........................C=1, gamma=1, kernel=poly; total time=   4.6s\n",
                        "[CV] END ..........................C=1, gamma=1, kernel=poly; total time=   4.2s\n",
                        "[CV] END ..........................C=1, gamma=1, kernel=poly; total time=   4.2s\n",
                        "[CV] END .......................C=1, gamma=1, kernel=sigmoid; total time=   1.3s\n",
                        "[CV] END .......................C=1, gamma=1, kernel=sigmoid; total time=   1.3s\n",
                        "[CV] END .......................C=1, gamma=1, kernel=sigmoid; total time=   1.3s\n",
                        "[CV] END .......................C=1, gamma=1, kernel=sigmoid; total time=   1.3s\n",
                        "[CV] END .......................C=1, gamma=1, kernel=sigmoid; total time=   1.5s\n",
                        "[CV] END .........................C=1, gamma=0.1, kernel=rbf; total time=   3.1s\n",
                        "[CV] END .........................C=1, gamma=0.1, kernel=rbf; total time=   3.9s\n",
                        "[CV] END .........................C=1, gamma=0.1, kernel=rbf; total time=   4.6s\n",
                        "[CV] END .........................C=1, gamma=0.1, kernel=rbf; total time=   3.2s\n",
                        "[CV] END .........................C=1, gamma=0.1, kernel=rbf; total time=   4.3s\n",
                        "[CV] END ........................C=1, gamma=0.1, kernel=poly; total time=   4.5s\n",
                        "[CV] END ........................C=1, gamma=0.1, kernel=poly; total time=   4.2s\n",
                        "[CV] END ........................C=1, gamma=0.1, kernel=poly; total time=   4.1s\n",
                        "[CV] END ........................C=1, gamma=0.1, kernel=poly; total time=   4.2s\n",
                        "[CV] END ........................C=1, gamma=0.1, kernel=poly; total time=   4.8s\n",
                        "[CV] END .....................C=1, gamma=0.1, kernel=sigmoid; total time=   1.7s\n",
                        "[CV] END .....................C=1, gamma=0.1, kernel=sigmoid; total time=   1.7s\n",
                        "[CV] END .....................C=1, gamma=0.1, kernel=sigmoid; total time=   1.6s\n",
                        "[CV] END .....................C=1, gamma=0.1, kernel=sigmoid; total time=   2.0s\n",
                        "[CV] END .....................C=1, gamma=0.1, kernel=sigmoid; total time=   1.9s\n",
                        "[CV] END ........................C=1, gamma=0.01, kernel=rbf; total time=   2.5s\n",
                        "[CV] END ........................C=1, gamma=0.01, kernel=rbf; total time=   2.5s\n",
                        "[CV] END ........................C=1, gamma=0.01, kernel=rbf; total time=   2.7s\n",
                        "[CV] END ........................C=1, gamma=0.01, kernel=rbf; total time=   2.6s\n",
                        "[CV] END ........................C=1, gamma=0.01, kernel=rbf; total time=   2.7s\n",
                        "[CV] END .......................C=1, gamma=0.01, kernel=poly; total time=   1.4s\n",
                        "[CV] END .......................C=1, gamma=0.01, kernel=poly; total time=   1.4s\n",
                        "[CV] END .......................C=1, gamma=0.01, kernel=poly; total time=   1.3s\n",
                        "[CV] END .......................C=1, gamma=0.01, kernel=poly; total time=   1.5s\n",
                        "[CV] END .......................C=1, gamma=0.01, kernel=poly; total time=   1.6s\n",
                        "[CV] END ....................C=1, gamma=0.01, kernel=sigmoid; total time=   1.9s\n",
                        "[CV] END ....................C=1, gamma=0.01, kernel=sigmoid; total time=   1.9s\n",
                        "[CV] END ....................C=1, gamma=0.01, kernel=sigmoid; total time=   2.1s\n",
                        "[CV] END ....................C=1, gamma=0.01, kernel=sigmoid; total time=   2.0s\n",
                        "[CV] END ....................C=1, gamma=0.01, kernel=sigmoid; total time=   2.1s\n",
                        "[CV] END .......................C=1, gamma=0.001, kernel=rbf; total time=   2.1s\n",
                        "[CV] END .......................C=1, gamma=0.001, kernel=rbf; total time=   2.1s\n",
                        "[CV] END .......................C=1, gamma=0.001, kernel=rbf; total time=   2.0s\n",
                        "[CV] END .......................C=1, gamma=0.001, kernel=rbf; total time=   2.0s\n",
                        "[CV] END .......................C=1, gamma=0.001, kernel=rbf; total time=   2.0s\n",
                        "[CV] END ......................C=1, gamma=0.001, kernel=poly; total time=   0.9s\n",
                        "[CV] END ......................C=1, gamma=0.001, kernel=poly; total time=   0.9s\n",
                        "[CV] END ......................C=1, gamma=0.001, kernel=poly; total time=   1.1s\n",
                        "[CV] END ......................C=1, gamma=0.001, kernel=poly; total time=   1.1s\n",
                        "[CV] END ......................C=1, gamma=0.001, kernel=poly; total time=   0.9s\n",
                        "[CV] END ...................C=1, gamma=0.001, kernel=sigmoid; total time=   1.6s\n",
                        "[CV] END ...................C=1, gamma=0.001, kernel=sigmoid; total time=   1.6s\n",
                        "[CV] END ...................C=1, gamma=0.001, kernel=sigmoid; total time=   1.8s\n",
                        "[CV] END ...................C=1, gamma=0.001, kernel=sigmoid; total time=   1.6s\n",
                        "[CV] END ...................C=1, gamma=0.001, kernel=sigmoid; total time=   1.6s\n",
                        "[CV] END ..........................C=10, gamma=1, kernel=rbf; total time=   5.4s\n",
                        "[CV] END ..........................C=10, gamma=1, kernel=rbf; total time=   5.5s\n",
                        "[CV] END ..........................C=10, gamma=1, kernel=rbf; total time=   5.9s\n",
                        "[CV] END ..........................C=10, gamma=1, kernel=rbf; total time=   6.0s\n",
                        "[CV] END ..........................C=10, gamma=1, kernel=rbf; total time=   6.2s\n",
                        "[CV] END .........................C=10, gamma=1, kernel=poly; total time=   4.1s\n",
                        "[CV] END .........................C=10, gamma=1, kernel=poly; total time=   4.3s\n",
                        "[CV] END .........................C=10, gamma=1, kernel=poly; total time=   4.0s\n",
                        "[CV] END .........................C=10, gamma=1, kernel=poly; total time=   4.0s\n",
                        "[CV] END .........................C=10, gamma=1, kernel=poly; total time=   4.0s\n",
                        "[CV] END ......................C=10, gamma=1, kernel=sigmoid; total time=   1.2s\n",
                        "[CV] END ......................C=10, gamma=1, kernel=sigmoid; total time=   1.2s\n",
                        "[CV] END ......................C=10, gamma=1, kernel=sigmoid; total time=   1.2s\n",
                        "[CV] END ......................C=10, gamma=1, kernel=sigmoid; total time=   1.2s\n",
                        "[CV] END ......................C=10, gamma=1, kernel=sigmoid; total time=   1.2s\n",
                        "[CV] END ........................C=10, gamma=0.1, kernel=rbf; total time=   2.2s\n",
                        "[CV] END ........................C=10, gamma=0.1, kernel=rbf; total time=   2.5s\n",
                        "[CV] END ........................C=10, gamma=0.1, kernel=rbf; total time=   2.3s\n",
                        "[CV] END ........................C=10, gamma=0.1, kernel=rbf; total time=   2.0s\n",
                        "[CV] END ........................C=10, gamma=0.1, kernel=rbf; total time=   2.2s\n",
                        "[CV] END .......................C=10, gamma=0.1, kernel=poly; total time=   4.5s\n",
                        "[CV] END .......................C=10, gamma=0.1, kernel=poly; total time=   4.3s\n",
                        "[CV] END .......................C=10, gamma=0.1, kernel=poly; total time=   4.4s\n",
                        "[CV] END .......................C=10, gamma=0.1, kernel=poly; total time=   3.8s\n",
                        "[CV] END .......................C=10, gamma=0.1, kernel=poly; total time=   3.8s\n",
                        "[CV] END ....................C=10, gamma=0.1, kernel=sigmoid; total time=   1.5s\n",
                        "[CV] END ....................C=10, gamma=0.1, kernel=sigmoid; total time=   1.6s\n",
                        "[CV] END ....................C=10, gamma=0.1, kernel=sigmoid; total time=   1.6s\n",
                        "[CV] END ....................C=10, gamma=0.1, kernel=sigmoid; total time=   1.4s\n",
                        "[CV] END ....................C=10, gamma=0.1, kernel=sigmoid; total time=   1.4s\n",
                        "[CV] END .......................C=10, gamma=0.01, kernel=rbf; total time=   2.5s\n",
                        "[CV] END .......................C=10, gamma=0.01, kernel=rbf; total time=   2.3s\n",
                        "[CV] END .......................C=10, gamma=0.01, kernel=rbf; total time=   2.2s\n",
                        "[CV] END .......................C=10, gamma=0.01, kernel=rbf; total time=   2.1s\n",
                        "[CV] END .......................C=10, gamma=0.01, kernel=rbf; total time=   2.3s\n",
                        "[CV] END ......................C=10, gamma=0.01, kernel=poly; total time=   2.6s\n",
                        "[CV] END ......................C=10, gamma=0.01, kernel=poly; total time=   2.8s\n",
                        "[CV] END ......................C=10, gamma=0.01, kernel=poly; total time=   2.7s\n",
                        "[CV] END ......................C=10, gamma=0.01, kernel=poly; total time=   3.0s\n",
                        "[CV] END ......................C=10, gamma=0.01, kernel=poly; total time=   2.8s\n",
                        "[CV] END ...................C=10, gamma=0.01, kernel=sigmoid; total time=   1.9s\n",
                        "[CV] END ...................C=10, gamma=0.01, kernel=sigmoid; total time=   2.1s\n",
                        "[CV] END ...................C=10, gamma=0.01, kernel=sigmoid; total time=   1.9s\n",
                        "[CV] END ...................C=10, gamma=0.01, kernel=sigmoid; total time=   2.1s\n",
                        "[CV] END ...................C=10, gamma=0.01, kernel=sigmoid; total time=   2.0s\n",
                        "[CV] END ......................C=10, gamma=0.001, kernel=rbf; total time=   2.4s\n",
                        "[CV] END ......................C=10, gamma=0.001, kernel=rbf; total time=   2.2s\n",
                        "[CV] END ......................C=10, gamma=0.001, kernel=rbf; total time=   2.5s\n",
                        "[CV] END ......................C=10, gamma=0.001, kernel=rbf; total time=   2.2s\n",
                        "[CV] END ......................C=10, gamma=0.001, kernel=rbf; total time=   2.3s\n",
                        "[CV] END .....................C=10, gamma=0.001, kernel=poly; total time=   0.8s\n",
                        "[CV] END .....................C=10, gamma=0.001, kernel=poly; total time=   0.9s\n",
                        "[CV] END .....................C=10, gamma=0.001, kernel=poly; total time=   0.9s\n",
                        "[CV] END .....................C=10, gamma=0.001, kernel=poly; total time=   0.9s\n",
                        "[CV] END .....................C=10, gamma=0.001, kernel=poly; total time=   0.8s\n",
                        "[CV] END ..................C=10, gamma=0.001, kernel=sigmoid; total time=   1.8s\n",
                        "[CV] END ..................C=10, gamma=0.001, kernel=sigmoid; total time=   1.8s\n",
                        "[CV] END ..................C=10, gamma=0.001, kernel=sigmoid; total time=   1.7s\n",
                        "[CV] END ..................C=10, gamma=0.001, kernel=sigmoid; total time=   1.8s\n",
                        "[CV] END ..................C=10, gamma=0.001, kernel=sigmoid; total time=   1.9s\n",
                        "[CV] END .........................C=100, gamma=1, kernel=rbf; total time=   5.5s\n",
                        "[CV] END .........................C=100, gamma=1, kernel=rbf; total time=   5.6s\n",
                        "[CV] END .........................C=100, gamma=1, kernel=rbf; total time=   5.2s\n",
                        "[CV] END .........................C=100, gamma=1, kernel=rbf; total time=   5.7s\n",
                        "[CV] END .........................C=100, gamma=1, kernel=rbf; total time=   5.9s\n",
                        "[CV] END ........................C=100, gamma=1, kernel=poly; total time=   3.9s\n",
                        "[CV] END ........................C=100, gamma=1, kernel=poly; total time=   4.0s\n",
                        "[CV] END ........................C=100, gamma=1, kernel=poly; total time=   4.0s\n",
                        "[CV] END ........................C=100, gamma=1, kernel=poly; total time=   4.0s\n",
                        "[CV] END ........................C=100, gamma=1, kernel=poly; total time=   4.1s\n",
                        "[CV] END .....................C=100, gamma=1, kernel=sigmoid; total time=   0.6s\n",
                        "[CV] END .....................C=100, gamma=1, kernel=sigmoid; total time=   1.1s\n",
                        "[CV] END .....................C=100, gamma=1, kernel=sigmoid; total time=   0.7s\n",
                        "[CV] END .....................C=100, gamma=1, kernel=sigmoid; total time=   1.1s\n",
                        "[CV] END .....................C=100, gamma=1, kernel=sigmoid; total time=   0.6s\n",
                        "[CV] END .......................C=100, gamma=0.1, kernel=rbf; total time=   2.1s\n",
                        "[CV] END .......................C=100, gamma=0.1, kernel=rbf; total time=   2.2s\n",
                        "[CV] END .......................C=100, gamma=0.1, kernel=rbf; total time=   2.2s\n",
                        "[CV] END .......................C=100, gamma=0.1, kernel=rbf; total time=   1.9s\n",
                        "[CV] END .......................C=100, gamma=0.1, kernel=rbf; total time=   2.2s\n",
                        "[CV] END ......................C=100, gamma=0.1, kernel=poly; total time=   4.0s\n",
                        "[CV] END ......................C=100, gamma=0.1, kernel=poly; total time=   4.0s\n",
                        "[CV] END ......................C=100, gamma=0.1, kernel=poly; total time=   4.4s\n",
                        "[CV] END ......................C=100, gamma=0.1, kernel=poly; total time=   4.0s\n",
                        "[CV] END ......................C=100, gamma=0.1, kernel=poly; total time=   3.9s\n",
                        "[CV] END ...................C=100, gamma=0.1, kernel=sigmoid; total time=   0.7s\n",
                        "[CV] END ...................C=100, gamma=0.1, kernel=sigmoid; total time=   0.7s\n",
                        "[CV] END ...................C=100, gamma=0.1, kernel=sigmoid; total time=   0.7s\n",
                        "[CV] END ...................C=100, gamma=0.1, kernel=sigmoid; total time=   0.8s\n",
                        "[CV] END ...................C=100, gamma=0.1, kernel=sigmoid; total time=   0.7s\n",
                        "[CV] END ......................C=100, gamma=0.01, kernel=rbf; total time=   1.8s\n",
                        "[CV] END ......................C=100, gamma=0.01, kernel=rbf; total time=   1.8s\n",
                        "[CV] END ......................C=100, gamma=0.01, kernel=rbf; total time=   1.8s\n",
                        "[CV] END ......................C=100, gamma=0.01, kernel=rbf; total time=   1.7s\n",
                        "[CV] END ......................C=100, gamma=0.01, kernel=rbf; total time=   1.9s\n",
                        "[CV] END .....................C=100, gamma=0.01, kernel=poly; total time=   3.5s\n",
                        "[CV] END .....................C=100, gamma=0.01, kernel=poly; total time=   3.6s\n",
                        "[CV] END .....................C=100, gamma=0.01, kernel=poly; total time=   3.5s\n",
                        "[CV] END .....................C=100, gamma=0.01, kernel=poly; total time=   3.4s\n",
                        "[CV] END .....................C=100, gamma=0.01, kernel=poly; total time=   3.5s\n",
                        "[CV] END ..................C=100, gamma=0.01, kernel=sigmoid; total time=   1.9s\n",
                        "[CV] END ..................C=100, gamma=0.01, kernel=sigmoid; total time=   2.4s\n",
                        "[CV] END ..................C=100, gamma=0.01, kernel=sigmoid; total time=   2.2s\n",
                        "[CV] END ..................C=100, gamma=0.01, kernel=sigmoid; total time=   1.8s\n",
                        "[CV] END ..................C=100, gamma=0.01, kernel=sigmoid; total time=   1.9s\n",
                        "[CV] END .....................C=100, gamma=0.001, kernel=rbf; total time=   2.3s\n",
                        "[CV] END .....................C=100, gamma=0.001, kernel=rbf; total time=   2.4s\n",
                        "[CV] END .....................C=100, gamma=0.001, kernel=rbf; total time=   2.3s\n",
                        "[CV] END .....................C=100, gamma=0.001, kernel=rbf; total time=   2.4s\n",
                        "[CV] END .....................C=100, gamma=0.001, kernel=rbf; total time=   2.6s\n",
                        "[CV] END ....................C=100, gamma=0.001, kernel=poly; total time=   0.9s\n",
                        "[CV] END ....................C=100, gamma=0.001, kernel=poly; total time=   0.9s\n",
                        "[CV] END ....................C=100, gamma=0.001, kernel=poly; total time=   0.9s\n",
                        "[CV] END ....................C=100, gamma=0.001, kernel=poly; total time=   0.8s\n",
                        "[CV] END ....................C=100, gamma=0.001, kernel=poly; total time=   0.9s\n",
                        "[CV] END .................C=100, gamma=0.001, kernel=sigmoid; total time=   1.9s\n",
                        "[CV] END .................C=100, gamma=0.001, kernel=sigmoid; total time=   2.0s\n",
                        "[CV] END .................C=100, gamma=0.001, kernel=sigmoid; total time=   1.9s\n",
                        "[CV] END .................C=100, gamma=0.001, kernel=sigmoid; total time=   2.0s\n",
                        "[CV] END .................C=100, gamma=0.001, kernel=sigmoid; total time=   2.0s\n"
                    ]
                },
                {
                    "data": {
                        "text/html": [
                            "<style>#sk-container-id-1 {color: black;background-color: white;}#sk-container-id-1 pre{padding: 0;}#sk-container-id-1 div.sk-toggleable {background-color: white;}#sk-container-id-1 label.sk-toggleable__label {cursor: pointer;display: block;width: 100%;margin-bottom: 0;padding: 0.3em;box-sizing: border-box;text-align: center;}#sk-container-id-1 label.sk-toggleable__label-arrow:before {content: \"▸\";float: left;margin-right: 0.25em;color: #696969;}#sk-container-id-1 label.sk-toggleable__label-arrow:hover:before {color: black;}#sk-container-id-1 div.sk-estimator:hover label.sk-toggleable__label-arrow:before {color: black;}#sk-container-id-1 div.sk-toggleable__content {max-height: 0;max-width: 0;overflow: hidden;text-align: left;background-color: #f0f8ff;}#sk-container-id-1 div.sk-toggleable__content pre {margin: 0.2em;color: black;border-radius: 0.25em;background-color: #f0f8ff;}#sk-container-id-1 input.sk-toggleable__control:checked~div.sk-toggleable__content {max-height: 200px;max-width: 100%;overflow: auto;}#sk-container-id-1 input.sk-toggleable__control:checked~label.sk-toggleable__label-arrow:before {content: \"▾\";}#sk-container-id-1 div.sk-estimator input.sk-toggleable__control:checked~label.sk-toggleable__label {background-color: #d4ebff;}#sk-container-id-1 div.sk-label input.sk-toggleable__control:checked~label.sk-toggleable__label {background-color: #d4ebff;}#sk-container-id-1 input.sk-hidden--visually {border: 0;clip: rect(1px 1px 1px 1px);clip: rect(1px, 1px, 1px, 1px);height: 1px;margin: -1px;overflow: hidden;padding: 0;position: absolute;width: 1px;}#sk-container-id-1 div.sk-estimator {font-family: monospace;background-color: #f0f8ff;border: 1px dotted black;border-radius: 0.25em;box-sizing: border-box;margin-bottom: 0.5em;}#sk-container-id-1 div.sk-estimator:hover {background-color: #d4ebff;}#sk-container-id-1 div.sk-parallel-item::after {content: \"\";width: 100%;border-bottom: 1px solid gray;flex-grow: 1;}#sk-container-id-1 div.sk-label:hover label.sk-toggleable__label {background-color: #d4ebff;}#sk-container-id-1 div.sk-serial::before {content: \"\";position: absolute;border-left: 1px solid gray;box-sizing: border-box;top: 0;bottom: 0;left: 50%;z-index: 0;}#sk-container-id-1 div.sk-serial {display: flex;flex-direction: column;align-items: center;background-color: white;padding-right: 0.2em;padding-left: 0.2em;position: relative;}#sk-container-id-1 div.sk-item {position: relative;z-index: 1;}#sk-container-id-1 div.sk-parallel {display: flex;align-items: stretch;justify-content: center;background-color: white;position: relative;}#sk-container-id-1 div.sk-item::before, #sk-container-id-1 div.sk-parallel-item::before {content: \"\";position: absolute;border-left: 1px solid gray;box-sizing: border-box;top: 0;bottom: 0;left: 50%;z-index: -1;}#sk-container-id-1 div.sk-parallel-item {display: flex;flex-direction: column;z-index: 1;position: relative;background-color: white;}#sk-container-id-1 div.sk-parallel-item:first-child::after {align-self: flex-end;width: 50%;}#sk-container-id-1 div.sk-parallel-item:last-child::after {align-self: flex-start;width: 50%;}#sk-container-id-1 div.sk-parallel-item:only-child::after {width: 0;}#sk-container-id-1 div.sk-dashed-wrapped {border: 1px dashed gray;margin: 0 0.4em 0.5em 0.4em;box-sizing: border-box;padding-bottom: 0.4em;background-color: white;}#sk-container-id-1 div.sk-label label {font-family: monospace;font-weight: bold;display: inline-block;line-height: 1.2em;}#sk-container-id-1 div.sk-label-container {text-align: center;}#sk-container-id-1 div.sk-container {/* jupyter's `normalize.less` sets `[hidden] { display: none; }` but bootstrap.min.css set `[hidden] { display: none !important; }` so we also need the `!important` here to be able to override the default hidden behavior on the sphinx rendered scikit-learn.org. See: https://github.com/scikit-learn/scikit-learn/issues/21755 */display: inline-block !important;position: relative;}#sk-container-id-1 div.sk-text-repr-fallback {display: none;}</style><div id=\"sk-container-id-1\" class=\"sk-top-container\"><div class=\"sk-text-repr-fallback\"><pre>GridSearchCV(estimator=SVC(random_state=1234),\n",
                            "             param_grid={&#x27;C&#x27;: [0.1, 1, 10, 100], &#x27;gamma&#x27;: [1, 0.1, 0.01, 0.001],\n",
                            "                         &#x27;kernel&#x27;: [&#x27;rbf&#x27;, &#x27;poly&#x27;, &#x27;sigmoid&#x27;]},\n",
                            "             verbose=2)</pre><b>In a Jupyter environment, please rerun this cell to show the HTML representation or trust the notebook. <br />On GitHub, the HTML representation is unable to render, please try loading this page with nbviewer.org.</b></div><div class=\"sk-container\" hidden><div class=\"sk-item sk-dashed-wrapped\"><div class=\"sk-label-container\"><div class=\"sk-label sk-toggleable\"><input class=\"sk-toggleable__control sk-hidden--visually\" id=\"sk-estimator-id-1\" type=\"checkbox\" ><label for=\"sk-estimator-id-1\" class=\"sk-toggleable__label sk-toggleable__label-arrow\">GridSearchCV</label><div class=\"sk-toggleable__content\"><pre>GridSearchCV(estimator=SVC(random_state=1234),\n",
                            "             param_grid={&#x27;C&#x27;: [0.1, 1, 10, 100], &#x27;gamma&#x27;: [1, 0.1, 0.01, 0.001],\n",
                            "                         &#x27;kernel&#x27;: [&#x27;rbf&#x27;, &#x27;poly&#x27;, &#x27;sigmoid&#x27;]},\n",
                            "             verbose=2)</pre></div></div></div><div class=\"sk-parallel\"><div class=\"sk-parallel-item\"><div class=\"sk-item\"><div class=\"sk-label-container\"><div class=\"sk-label sk-toggleable\"><input class=\"sk-toggleable__control sk-hidden--visually\" id=\"sk-estimator-id-2\" type=\"checkbox\" ><label for=\"sk-estimator-id-2\" class=\"sk-toggleable__label sk-toggleable__label-arrow\">estimator: SVC</label><div class=\"sk-toggleable__content\"><pre>SVC(random_state=1234)</pre></div></div></div><div class=\"sk-serial\"><div class=\"sk-item\"><div class=\"sk-estimator sk-toggleable\"><input class=\"sk-toggleable__control sk-hidden--visually\" id=\"sk-estimator-id-3\" type=\"checkbox\" ><label for=\"sk-estimator-id-3\" class=\"sk-toggleable__label sk-toggleable__label-arrow\">SVC</label><div class=\"sk-toggleable__content\"><pre>SVC(random_state=1234)</pre></div></div></div></div></div></div></div></div></div></div>"
                        ],
                        "text/plain": [
                            "GridSearchCV(estimator=SVC(random_state=1234),\n",
                            "             param_grid={'C': [0.1, 1, 10, 100], 'gamma': [1, 0.1, 0.01, 0.001],\n",
                            "                         'kernel': ['rbf', 'poly', 'sigmoid']},\n",
                            "             verbose=2)"
                        ]
                    },
                    "execution_count": 51,
                    "metadata": {},
                    "output_type": "execute_result"
                }
            ],
            "source": [
                "param_grid = {'C': [0.1,1, 10, 100], 'gamma': [1,0.1,0.01,0.001],'kernel': ['rbf', 'poly', 'sigmoid']}\n",
                "\n",
                "grid = GridSearchCV(SVC(random_state=1234),param_grid,verbose=2)\n",
                "\n",
                "grid.fit(X_train,y_train)"
            ]
        },
        {
            "cell_type": "code",
            "execution_count": 52,
            "metadata": {},
            "outputs": [
                {
                    "data": {
                        "text/plain": [
                            "{'C': 10, 'gamma': 0.1, 'kernel': 'rbf'}"
                        ]
                    },
                    "execution_count": 52,
                    "metadata": {},
                    "output_type": "execute_result"
                }
            ],
            "source": [
                "# Best hyperparameters\n",
                "\n",
                "grid.best_params_"
            ]
        },
        {
            "cell_type": "code",
            "execution_count": 53,
            "metadata": {},
            "outputs": [
                {
                    "data": {
                        "text/html": [
                            "<style>#sk-container-id-2 {color: black;background-color: white;}#sk-container-id-2 pre{padding: 0;}#sk-container-id-2 div.sk-toggleable {background-color: white;}#sk-container-id-2 label.sk-toggleable__label {cursor: pointer;display: block;width: 100%;margin-bottom: 0;padding: 0.3em;box-sizing: border-box;text-align: center;}#sk-container-id-2 label.sk-toggleable__label-arrow:before {content: \"▸\";float: left;margin-right: 0.25em;color: #696969;}#sk-container-id-2 label.sk-toggleable__label-arrow:hover:before {color: black;}#sk-container-id-2 div.sk-estimator:hover label.sk-toggleable__label-arrow:before {color: black;}#sk-container-id-2 div.sk-toggleable__content {max-height: 0;max-width: 0;overflow: hidden;text-align: left;background-color: #f0f8ff;}#sk-container-id-2 div.sk-toggleable__content pre {margin: 0.2em;color: black;border-radius: 0.25em;background-color: #f0f8ff;}#sk-container-id-2 input.sk-toggleable__control:checked~div.sk-toggleable__content {max-height: 200px;max-width: 100%;overflow: auto;}#sk-container-id-2 input.sk-toggleable__control:checked~label.sk-toggleable__label-arrow:before {content: \"▾\";}#sk-container-id-2 div.sk-estimator input.sk-toggleable__control:checked~label.sk-toggleable__label {background-color: #d4ebff;}#sk-container-id-2 div.sk-label input.sk-toggleable__control:checked~label.sk-toggleable__label {background-color: #d4ebff;}#sk-container-id-2 input.sk-hidden--visually {border: 0;clip: rect(1px 1px 1px 1px);clip: rect(1px, 1px, 1px, 1px);height: 1px;margin: -1px;overflow: hidden;padding: 0;position: absolute;width: 1px;}#sk-container-id-2 div.sk-estimator {font-family: monospace;background-color: #f0f8ff;border: 1px dotted black;border-radius: 0.25em;box-sizing: border-box;margin-bottom: 0.5em;}#sk-container-id-2 div.sk-estimator:hover {background-color: #d4ebff;}#sk-container-id-2 div.sk-parallel-item::after {content: \"\";width: 100%;border-bottom: 1px solid gray;flex-grow: 1;}#sk-container-id-2 div.sk-label:hover label.sk-toggleable__label {background-color: #d4ebff;}#sk-container-id-2 div.sk-serial::before {content: \"\";position: absolute;border-left: 1px solid gray;box-sizing: border-box;top: 0;bottom: 0;left: 50%;z-index: 0;}#sk-container-id-2 div.sk-serial {display: flex;flex-direction: column;align-items: center;background-color: white;padding-right: 0.2em;padding-left: 0.2em;position: relative;}#sk-container-id-2 div.sk-item {position: relative;z-index: 1;}#sk-container-id-2 div.sk-parallel {display: flex;align-items: stretch;justify-content: center;background-color: white;position: relative;}#sk-container-id-2 div.sk-item::before, #sk-container-id-2 div.sk-parallel-item::before {content: \"\";position: absolute;border-left: 1px solid gray;box-sizing: border-box;top: 0;bottom: 0;left: 50%;z-index: -1;}#sk-container-id-2 div.sk-parallel-item {display: flex;flex-direction: column;z-index: 1;position: relative;background-color: white;}#sk-container-id-2 div.sk-parallel-item:first-child::after {align-self: flex-end;width: 50%;}#sk-container-id-2 div.sk-parallel-item:last-child::after {align-self: flex-start;width: 50%;}#sk-container-id-2 div.sk-parallel-item:only-child::after {width: 0;}#sk-container-id-2 div.sk-dashed-wrapped {border: 1px dashed gray;margin: 0 0.4em 0.5em 0.4em;box-sizing: border-box;padding-bottom: 0.4em;background-color: white;}#sk-container-id-2 div.sk-label label {font-family: monospace;font-weight: bold;display: inline-block;line-height: 1.2em;}#sk-container-id-2 div.sk-label-container {text-align: center;}#sk-container-id-2 div.sk-container {/* jupyter's `normalize.less` sets `[hidden] { display: none; }` but bootstrap.min.css set `[hidden] { display: none !important; }` so we also need the `!important` here to be able to override the default hidden behavior on the sphinx rendered scikit-learn.org. See: https://github.com/scikit-learn/scikit-learn/issues/21755 */display: inline-block !important;position: relative;}#sk-container-id-2 div.sk-text-repr-fallback {display: none;}</style><div id=\"sk-container-id-2\" class=\"sk-top-container\"><div class=\"sk-text-repr-fallback\"><pre>SVC(C=10, gamma=0.1, random_state=1234)</pre><b>In a Jupyter environment, please rerun this cell to show the HTML representation or trust the notebook. <br />On GitHub, the HTML representation is unable to render, please try loading this page with nbviewer.org.</b></div><div class=\"sk-container\" hidden><div class=\"sk-item\"><div class=\"sk-estimator sk-toggleable\"><input class=\"sk-toggleable__control sk-hidden--visually\" id=\"sk-estimator-id-4\" type=\"checkbox\" checked><label for=\"sk-estimator-id-4\" class=\"sk-toggleable__label sk-toggleable__label-arrow\">SVC</label><div class=\"sk-toggleable__content\"><pre>SVC(C=10, gamma=0.1, random_state=1234)</pre></div></div></div></div></div>"
                        ],
                        "text/plain": [
                            "SVC(C=10, gamma=0.1, random_state=1234)"
                        ]
                    },
                    "execution_count": 53,
                    "metadata": {},
                    "output_type": "execute_result"
                }
            ],
            "source": [
                "# Best model\n",
                "\n",
                "grid.best_estimator_"
            ]
        },
        {
            "cell_type": "code",
            "execution_count": 55,
            "metadata": {},
            "outputs": [
                {
                    "name": "stdout",
                    "output_type": "stream",
                    "text": [
                        "              precision    recall  f1-score   support\n",
                        "\n",
                        "           0       0.96      0.96      0.96       532\n",
                        "           1       0.67      0.64      0.66        61\n",
                        "\n",
                        "    accuracy                           0.93       593\n",
                        "   macro avg       0.82      0.80      0.81       593\n",
                        "weighted avg       0.93      0.93      0.93       593\n",
                        "\n"
                    ]
                }
            ],
            "source": [
                "# Performance of best_estimator\n",
                "\n",
                "pred_grid = grid.best_estimator_.predict(X_test)\n",
                "print(classification_report(y_test, pred_grid))"
            ]
        },
        {
            "cell_type": "code",
            "execution_count": 57,
            "metadata": {},
            "outputs": [],
            "source": [
                "# The performance (accuracy and f1 for classes 0 and 1) in the test set \n",
                "# was better in the previous model, with the ad-hoc hyperparameters\n",
                "# Save it as best model\n",
                "\n",
                "best_model = classifier\n",
                "\n",
                "# Save it for future use\n",
                "\n",
                "pickle.dump(best_model, open('../models/best_model.pickle', 'wb')) # save the model\n",
                "# modelo = pickle.load(open('../models/best_model.pickle', 'rb')) # read the model in the future"
            ]
        }
    ],
    "metadata": {
        "kernelspec": {
            "display_name": "Python 3.8.13 64-bit ('3.8.13')",
            "language": "python",
            "name": "python3"
        },
        "language_info": {
            "codemirror_mode": {
                "name": "ipython",
                "version": 3
            },
            "file_extension": ".py",
            "mimetype": "text/x-python",
            "name": "python",
            "nbconvert_exporter": "python",
            "pygments_lexer": "ipython3",
            "version": "3.8.13"
        },
        "orig_nbformat": 4,
        "vscode": {
            "interpreter": {
                "hash": "110cc1dee26208153f2972f08a2ad52b6a56238dc66d48e87fb757ef2996db56"
            }
        }
    },
    "nbformat": 4,
    "nbformat_minor": 2
}
